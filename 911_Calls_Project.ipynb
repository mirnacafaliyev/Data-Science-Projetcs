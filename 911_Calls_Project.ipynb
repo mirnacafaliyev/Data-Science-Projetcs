{
 "cells": [
  {
   "cell_type": "markdown",
   "metadata": {},
   "source": [
    "### 911 Calls Project "
   ]
  },
  {
   "cell_type": "markdown",
   "metadata": {},
   "source": [
    "911 Calls Data: [Kaggle](https://www.kaggle.com/mchirico/montcoalert). The data contains the following fields:\n",
    "\n",
    "* lat:  Latitude\n",
    "* lng: Longitude\n",
    "* desc: Description of the Emergency Call\n",
    "* zip: Zipcode\n",
    "* title: Title (Reason + title code)\n",
    "* timeStamp: YYYY-MM-DD HH:MM:SS\n",
    "* twp: Township\n",
    "* addr: Address\n",
    "* e: Dummy variable (always 1)\n"
   ]
  },
  {
   "cell_type": "code",
   "execution_count": 1,
   "metadata": {},
   "outputs": [],
   "source": [
    "import numpy as np\n",
    "import pandas as pd\n",
    "import matplotlib.pyplot as plt\n",
    "import seaborn as sns\n",
    "%matplotlib inline"
   ]
  },
  {
   "cell_type": "code",
   "execution_count": 2,
   "metadata": {
    "scrolled": true
   },
   "outputs": [
    {
     "name": "stdout",
     "output_type": "stream",
     "text": [
      "(99492, 9)\n"
     ]
    },
    {
     "data": {
      "text/html": [
       "<div>\n",
       "<style scoped>\n",
       "    .dataframe tbody tr th:only-of-type {\n",
       "        vertical-align: middle;\n",
       "    }\n",
       "\n",
       "    .dataframe tbody tr th {\n",
       "        vertical-align: top;\n",
       "    }\n",
       "\n",
       "    .dataframe thead th {\n",
       "        text-align: right;\n",
       "    }\n",
       "</style>\n",
       "<table border=\"1\" class=\"dataframe\">\n",
       "  <thead>\n",
       "    <tr style=\"text-align: right;\">\n",
       "      <th></th>\n",
       "      <th>lat</th>\n",
       "      <th>lng</th>\n",
       "      <th>desc</th>\n",
       "      <th>zip</th>\n",
       "      <th>title</th>\n",
       "      <th>timeStamp</th>\n",
       "      <th>twp</th>\n",
       "      <th>addr</th>\n",
       "      <th>e</th>\n",
       "    </tr>\n",
       "  </thead>\n",
       "  <tbody>\n",
       "    <tr>\n",
       "      <th>0</th>\n",
       "      <td>40.297876</td>\n",
       "      <td>-75.581294</td>\n",
       "      <td>REINDEER CT &amp; DEAD END;  NEW HANOVER; Station ...</td>\n",
       "      <td>19525.0</td>\n",
       "      <td>EMS: BACK PAINS/INJURY</td>\n",
       "      <td>2015-12-10 17:40:00</td>\n",
       "      <td>NEW HANOVER</td>\n",
       "      <td>REINDEER CT &amp; DEAD END</td>\n",
       "      <td>1</td>\n",
       "    </tr>\n",
       "    <tr>\n",
       "      <th>1</th>\n",
       "      <td>40.258061</td>\n",
       "      <td>-75.264680</td>\n",
       "      <td>BRIAR PATH &amp; WHITEMARSH LN;  HATFIELD TOWNSHIP...</td>\n",
       "      <td>19446.0</td>\n",
       "      <td>EMS: DIABETIC EMERGENCY</td>\n",
       "      <td>2015-12-10 17:40:00</td>\n",
       "      <td>HATFIELD TOWNSHIP</td>\n",
       "      <td>BRIAR PATH &amp; WHITEMARSH LN</td>\n",
       "      <td>1</td>\n",
       "    </tr>\n",
       "    <tr>\n",
       "      <th>2</th>\n",
       "      <td>40.121182</td>\n",
       "      <td>-75.351975</td>\n",
       "      <td>HAWS AVE; NORRISTOWN; 2015-12-10 @ 14:39:21-St...</td>\n",
       "      <td>19401.0</td>\n",
       "      <td>Fire: GAS-ODOR/LEAK</td>\n",
       "      <td>2015-12-10 17:40:00</td>\n",
       "      <td>NORRISTOWN</td>\n",
       "      <td>HAWS AVE</td>\n",
       "      <td>1</td>\n",
       "    </tr>\n",
       "    <tr>\n",
       "      <th>3</th>\n",
       "      <td>40.116153</td>\n",
       "      <td>-75.343513</td>\n",
       "      <td>AIRY ST &amp; SWEDE ST;  NORRISTOWN; Station 308A;...</td>\n",
       "      <td>19401.0</td>\n",
       "      <td>EMS: CARDIAC EMERGENCY</td>\n",
       "      <td>2015-12-10 17:40:01</td>\n",
       "      <td>NORRISTOWN</td>\n",
       "      <td>AIRY ST &amp; SWEDE ST</td>\n",
       "      <td>1</td>\n",
       "    </tr>\n",
       "    <tr>\n",
       "      <th>4</th>\n",
       "      <td>40.251492</td>\n",
       "      <td>-75.603350</td>\n",
       "      <td>CHERRYWOOD CT &amp; DEAD END;  LOWER POTTSGROVE; S...</td>\n",
       "      <td>NaN</td>\n",
       "      <td>EMS: DIZZINESS</td>\n",
       "      <td>2015-12-10 17:40:01</td>\n",
       "      <td>LOWER POTTSGROVE</td>\n",
       "      <td>CHERRYWOOD CT &amp; DEAD END</td>\n",
       "      <td>1</td>\n",
       "    </tr>\n",
       "  </tbody>\n",
       "</table>\n",
       "</div>"
      ],
      "text/plain": [
       "         lat        lng                                               desc  \\\n",
       "0  40.297876 -75.581294  REINDEER CT & DEAD END;  NEW HANOVER; Station ...   \n",
       "1  40.258061 -75.264680  BRIAR PATH & WHITEMARSH LN;  HATFIELD TOWNSHIP...   \n",
       "2  40.121182 -75.351975  HAWS AVE; NORRISTOWN; 2015-12-10 @ 14:39:21-St...   \n",
       "3  40.116153 -75.343513  AIRY ST & SWEDE ST;  NORRISTOWN; Station 308A;...   \n",
       "4  40.251492 -75.603350  CHERRYWOOD CT & DEAD END;  LOWER POTTSGROVE; S...   \n",
       "\n",
       "       zip                    title            timeStamp                twp  \\\n",
       "0  19525.0   EMS: BACK PAINS/INJURY  2015-12-10 17:40:00        NEW HANOVER   \n",
       "1  19446.0  EMS: DIABETIC EMERGENCY  2015-12-10 17:40:00  HATFIELD TOWNSHIP   \n",
       "2  19401.0      Fire: GAS-ODOR/LEAK  2015-12-10 17:40:00         NORRISTOWN   \n",
       "3  19401.0   EMS: CARDIAC EMERGENCY  2015-12-10 17:40:01         NORRISTOWN   \n",
       "4      NaN           EMS: DIZZINESS  2015-12-10 17:40:01   LOWER POTTSGROVE   \n",
       "\n",
       "                         addr  e  \n",
       "0      REINDEER CT & DEAD END  1  \n",
       "1  BRIAR PATH & WHITEMARSH LN  1  \n",
       "2                    HAWS AVE  1  \n",
       "3          AIRY ST & SWEDE ST  1  \n",
       "4    CHERRYWOOD CT & DEAD END  1  "
      ]
     },
     "execution_count": 2,
     "metadata": {},
     "output_type": "execute_result"
    }
   ],
   "source": [
    "df = pd.read_csv('911.csv')\n",
    "print(df.shape)\n",
    "df.head()"
   ]
  },
  {
   "cell_type": "code",
   "execution_count": 3,
   "metadata": {},
   "outputs": [
    {
     "data": {
      "text/plain": [
       "lat              0\n",
       "lng              0\n",
       "desc             0\n",
       "zip          12855\n",
       "title            0\n",
       "timeStamp        0\n",
       "twp             43\n",
       "addr           519\n",
       "e                0\n",
       "dtype: int64"
      ]
     },
     "execution_count": 3,
     "metadata": {},
     "output_type": "execute_result"
    }
   ],
   "source": [
    "df.isnull().sum()"
   ]
  },
  {
   "cell_type": "code",
   "execution_count": 4,
   "metadata": {},
   "outputs": [
    {
     "name": "stdout",
     "output_type": "stream",
     "text": [
      "(86576, 8)\n"
     ]
    },
    {
     "data": {
      "text/html": [
       "<div>\n",
       "<style scoped>\n",
       "    .dataframe tbody tr th:only-of-type {\n",
       "        vertical-align: middle;\n",
       "    }\n",
       "\n",
       "    .dataframe tbody tr th {\n",
       "        vertical-align: top;\n",
       "    }\n",
       "\n",
       "    .dataframe thead th {\n",
       "        text-align: right;\n",
       "    }\n",
       "</style>\n",
       "<table border=\"1\" class=\"dataframe\">\n",
       "  <thead>\n",
       "    <tr style=\"text-align: right;\">\n",
       "      <th></th>\n",
       "      <th>lat</th>\n",
       "      <th>lng</th>\n",
       "      <th>desc</th>\n",
       "      <th>zip</th>\n",
       "      <th>title</th>\n",
       "      <th>timeStamp</th>\n",
       "      <th>twp</th>\n",
       "      <th>addr</th>\n",
       "    </tr>\n",
       "  </thead>\n",
       "  <tbody>\n",
       "    <tr>\n",
       "      <th>0</th>\n",
       "      <td>40.297876</td>\n",
       "      <td>-75.581294</td>\n",
       "      <td>REINDEER CT &amp; DEAD END;  NEW HANOVER; Station ...</td>\n",
       "      <td>19525.0</td>\n",
       "      <td>EMS: BACK PAINS/INJURY</td>\n",
       "      <td>2015-12-10 17:40:00</td>\n",
       "      <td>NEW HANOVER</td>\n",
       "      <td>REINDEER CT &amp; DEAD END</td>\n",
       "    </tr>\n",
       "    <tr>\n",
       "      <th>1</th>\n",
       "      <td>40.258061</td>\n",
       "      <td>-75.264680</td>\n",
       "      <td>BRIAR PATH &amp; WHITEMARSH LN;  HATFIELD TOWNSHIP...</td>\n",
       "      <td>19446.0</td>\n",
       "      <td>EMS: DIABETIC EMERGENCY</td>\n",
       "      <td>2015-12-10 17:40:00</td>\n",
       "      <td>HATFIELD TOWNSHIP</td>\n",
       "      <td>BRIAR PATH &amp; WHITEMARSH LN</td>\n",
       "    </tr>\n",
       "    <tr>\n",
       "      <th>2</th>\n",
       "      <td>40.121182</td>\n",
       "      <td>-75.351975</td>\n",
       "      <td>HAWS AVE; NORRISTOWN; 2015-12-10 @ 14:39:21-St...</td>\n",
       "      <td>19401.0</td>\n",
       "      <td>Fire: GAS-ODOR/LEAK</td>\n",
       "      <td>2015-12-10 17:40:00</td>\n",
       "      <td>NORRISTOWN</td>\n",
       "      <td>HAWS AVE</td>\n",
       "    </tr>\n",
       "    <tr>\n",
       "      <th>3</th>\n",
       "      <td>40.116153</td>\n",
       "      <td>-75.343513</td>\n",
       "      <td>AIRY ST &amp; SWEDE ST;  NORRISTOWN; Station 308A;...</td>\n",
       "      <td>19401.0</td>\n",
       "      <td>EMS: CARDIAC EMERGENCY</td>\n",
       "      <td>2015-12-10 17:40:01</td>\n",
       "      <td>NORRISTOWN</td>\n",
       "      <td>AIRY ST &amp; SWEDE ST</td>\n",
       "    </tr>\n",
       "    <tr>\n",
       "      <th>5</th>\n",
       "      <td>40.253473</td>\n",
       "      <td>-75.283245</td>\n",
       "      <td>CANNON AVE &amp; W 9TH ST;  LANSDALE; Station 345;...</td>\n",
       "      <td>19446.0</td>\n",
       "      <td>EMS: HEAD INJURY</td>\n",
       "      <td>2015-12-10 17:40:01</td>\n",
       "      <td>LANSDALE</td>\n",
       "      <td>CANNON AVE &amp; W 9TH ST</td>\n",
       "    </tr>\n",
       "  </tbody>\n",
       "</table>\n",
       "</div>"
      ],
      "text/plain": [
       "         lat        lng                                               desc  \\\n",
       "0  40.297876 -75.581294  REINDEER CT & DEAD END;  NEW HANOVER; Station ...   \n",
       "1  40.258061 -75.264680  BRIAR PATH & WHITEMARSH LN;  HATFIELD TOWNSHIP...   \n",
       "2  40.121182 -75.351975  HAWS AVE; NORRISTOWN; 2015-12-10 @ 14:39:21-St...   \n",
       "3  40.116153 -75.343513  AIRY ST & SWEDE ST;  NORRISTOWN; Station 308A;...   \n",
       "5  40.253473 -75.283245  CANNON AVE & W 9TH ST;  LANSDALE; Station 345;...   \n",
       "\n",
       "       zip                    title            timeStamp                twp  \\\n",
       "0  19525.0   EMS: BACK PAINS/INJURY  2015-12-10 17:40:00        NEW HANOVER   \n",
       "1  19446.0  EMS: DIABETIC EMERGENCY  2015-12-10 17:40:00  HATFIELD TOWNSHIP   \n",
       "2  19401.0      Fire: GAS-ODOR/LEAK  2015-12-10 17:40:00         NORRISTOWN   \n",
       "3  19401.0   EMS: CARDIAC EMERGENCY  2015-12-10 17:40:01         NORRISTOWN   \n",
       "5  19446.0         EMS: HEAD INJURY  2015-12-10 17:40:01           LANSDALE   \n",
       "\n",
       "                         addr  \n",
       "0      REINDEER CT & DEAD END  \n",
       "1  BRIAR PATH & WHITEMARSH LN  \n",
       "2                    HAWS AVE  \n",
       "3          AIRY ST & SWEDE ST  \n",
       "5       CANNON AVE & W 9TH ST  "
      ]
     },
     "execution_count": 4,
     "metadata": {},
     "output_type": "execute_result"
    }
   ],
   "source": [
    "# while df['e'] column doesnt mean anything as it's same for all values, there is no further need it.\n",
    "df = df.drop('e', axis=1) \n",
    "# For sake of simplification, I'm going to drop nan values,so while there is enough data, dropping those ones doesn't have \n",
    "# significant effect \n",
    "df.dropna(inplace=True)  \n",
    "print(df.shape)\n",
    "df.head()"
   ]
  },
  {
   "cell_type": "code",
   "execution_count": 5,
   "metadata": {},
   "outputs": [
    {
     "name": "stdout",
     "output_type": "stream",
     "text": [
      "<class 'pandas.core.frame.DataFrame'>\n",
      "Int64Index: 86576 entries, 0 to 99491\n",
      "Data columns (total 8 columns):\n",
      " #   Column     Non-Null Count  Dtype  \n",
      "---  ------     --------------  -----  \n",
      " 0   lat        86576 non-null  float64\n",
      " 1   lng        86576 non-null  float64\n",
      " 2   desc       86576 non-null  object \n",
      " 3   zip        86576 non-null  float64\n",
      " 4   title      86576 non-null  object \n",
      " 5   timeStamp  86576 non-null  object \n",
      " 6   twp        86576 non-null  object \n",
      " 7   addr       86576 non-null  object \n",
      "dtypes: float64(3), object(5)\n",
      "memory usage: 5.9+ MB\n"
     ]
    }
   ],
   "source": [
    "df.info()"
   ]
  },
  {
   "cell_type": "code",
   "execution_count": 6,
   "metadata": {},
   "outputs": [
    {
     "data": {
      "image/png": "[encoded data removed]",
      "text/plain": [
       "<Figure size 432x288 with 1 Axes>"
      ]
     },
     "metadata": {
      "needs_background": "light"
     },
     "output_type": "display_data"
    }
   ],
   "source": [
    "fg = sns.countplot(data =df, x='twp', order=df['twp'].value_counts().index[:5], palette='husl')\n",
    "\n",
    "fg.set(xlabel=None, ylabel='911 Calls Count', title = 'The Top 5 Townships for 911 Calls')\n",
    "\n",
    "plt.xticks(rotation=25)\n",
    "plt.show()"
   ]
  },
  {
   "cell_type": "code",
   "execution_count": 7,
   "metadata": {},
   "outputs": [
    {
     "data": {
      "image/png": "[encoded data removed]",
      "text/plain": [
       "<Figure size 432x288 with 1 Axes>"
      ]
     },
     "metadata": {
      "needs_background": "light"
     },
     "output_type": "display_data"
    }
   ],
   "source": [
    "fg = sns.countplot(data =df, x='zip', order=df['zip'].value_counts().index[:5])\n",
    "\n",
    "fg.set(xlabel=None, ylabel='911 Calls Count', title = 'The Top 5 Zipcodes for 911 Calls')\n",
    "\n",
    "plt.show()"
   ]
  },
  {
   "cell_type": "code",
   "execution_count": 8,
   "metadata": {},
   "outputs": [
    {
     "data": {
      "text/plain": [
       "array(['EMS: BACK PAINS/INJURY', 'EMS: DIABETIC EMERGENCY',\n",
       "       'Fire: GAS-ODOR/LEAK', 'EMS: CARDIAC EMERGENCY',\n",
       "       'EMS: HEAD INJURY', 'EMS: NAUSEA/VOMITING',\n",
       "       'EMS: RESPIRATORY EMERGENCY', 'EMS: SYNCOPAL EPISODE',\n",
       "       'Traffic: VEHICLE ACCIDENT -', 'EMS: DIZZINESS'], dtype=object)"
      ]
     },
     "execution_count": 8,
     "metadata": {},
     "output_type": "execute_result"
    }
   ],
   "source": [
    "df['title'].unique()[:10]"
   ]
  },
  {
   "cell_type": "code",
   "execution_count": 9,
   "metadata": {},
   "outputs": [
    {
     "data": {
      "text/plain": [
       "107"
      ]
     },
     "execution_count": 9,
     "metadata": {},
     "output_type": "execute_result"
    }
   ],
   "source": [
    "df['title'].nunique()"
   ]
  },
  {
   "cell_type": "code",
   "execution_count": 10,
   "metadata": {},
   "outputs": [],
   "source": [
    "df['Reason'] = df['title'].apply(lambda title: title.split(':')[0])"
   ]
  },
  {
   "cell_type": "markdown",
   "metadata": {},
   "source": [
    "**The most common Reason for a 911 call**"
   ]
  },
  {
   "cell_type": "code",
   "execution_count": 11,
   "metadata": {},
   "outputs": [
    {
     "data": {
      "image/png": "[encoded data removed]",
      "text/plain": [
       "<Figure size 432x288 with 1 Axes>"
      ]
     },
     "metadata": {
      "needs_background": "light"
     },
     "output_type": "display_data"
    }
   ],
   "source": [
    "ax = sns.countplot(x=df['Reason'], data=df, order=df['Reason'].value_counts().index[::-1], palette='Blues')\n",
    "\n",
    "ax.set(xlabel=None)\n",
    "\n",
    "for p in ax.patches:\n",
    "    ax.annotate(f'\\n{p.get_height()}', (p.get_x()+0.4, p.get_height()), ha='center', va='top', color='white', size=10)\n"
   ]
  },
  {
   "cell_type": "code",
   "execution_count": 12,
   "metadata": {},
   "outputs": [
    {
     "data": {
      "text/plain": [
       "str"
      ]
     },
     "execution_count": 12,
     "metadata": {},
     "output_type": "execute_result"
    }
   ],
   "source": [
    "type(df['timeStamp'].iloc[4])"
   ]
  },
  {
   "cell_type": "code",
   "execution_count": 13,
   "metadata": {},
   "outputs": [],
   "source": [
    "# Data type should be converted to datetime to work with dates easily.\n",
    "df['timeStamp'] = pd.to_datetime(df['timeStamp'])"
   ]
  },
  {
   "cell_type": "code",
   "execution_count": 14,
   "metadata": {},
   "outputs": [
    {
     "data": {
      "text/plain": [
       "(Timestamp('2015-12-10 17:40:00'), 2015, 12, 10, 17)"
      ]
     },
     "execution_count": 14,
     "metadata": {},
     "output_type": "execute_result"
    }
   ],
   "source": [
    "time = df['timeStamp'].iloc[0]\n",
    "\n",
    "time, time.year, time.month, time.day, time.hour"
   ]
  },
  {
   "cell_type": "code",
   "execution_count": 15,
   "metadata": {},
   "outputs": [],
   "source": [
    "df['Year'] = df['timeStamp'].apply(lambda time: time.year)\n",
    "df['Hour'] = df['timeStamp'].apply(lambda time: time.hour)\n",
    "df['Month'] = df['timeStamp'].apply(lambda time: time.month)\n",
    "df['Day of Week'] = df['timeStamp'].apply(lambda time: time.dayofweek)"
   ]
  },
  {
   "cell_type": "code",
   "execution_count": 16,
   "metadata": {},
   "outputs": [],
   "source": [
    "dow_map = {0:'Mon', 1:'Tue', 2:'Wed', 3:'Thu', 4:'Fri', 5:'Sat', 6:'Sun'}"
   ]
  },
  {
   "cell_type": "code",
   "execution_count": 17,
   "metadata": {},
   "outputs": [],
   "source": [
    "df['Day of Week'] = df['Day of Week'].map(dow_map)"
   ]
  },
  {
   "cell_type": "code",
   "execution_count": 18,
   "metadata": {},
   "outputs": [
    {
     "data": {
      "text/plain": [
       "<matplotlib.legend.Legend at 0x2c995a10880>"
      ]
     },
     "execution_count": 18,
     "metadata": {},
     "output_type": "execute_result"
    },
    {
     "data": {
      "image/png": "[encoded data removed]",
      "text/plain": [
       "<Figure size 432x288 with 1 Axes>"
      ]
     },
     "metadata": {
      "needs_background": "light"
     },
     "output_type": "display_data"
    }
   ],
   "source": [
    "sns.countplot(x='Day of Week',data=df,hue='Reason',palette='viridis')\n",
    "\n",
    "# To relocate the legend\n",
    "plt.legend(bbox_to_anchor=(1.03, 0.78), loc=3)"
   ]
  },
  {
   "cell_type": "code",
   "execution_count": 19,
   "metadata": {},
   "outputs": [
    {
     "data": {
      "text/plain": [
       "<matplotlib.legend.Legend at 0x2c995a49c70>"
      ]
     },
     "execution_count": 19,
     "metadata": {},
     "output_type": "execute_result"
    },
    {
     "data": {
      "image/png": "[encoded data removed]",
      "text/plain": [
       "<Figure size 432x288 with 1 Axes>"
      ]
     },
     "metadata": {
      "needs_background": "light"
     },
     "output_type": "display_data"
    }
   ],
   "source": [
    "sns.countplot(x='Month',data=df,hue='Reason',palette='viridis')\n",
    "\n",
    "# To relocate the legend\n",
    "plt.legend(bbox_to_anchor=(1.05, 1), loc=2, borderaxespad=0.)"
   ]
  },
  {
   "cell_type": "markdown",
   "metadata": {},
   "source": [
    "**The graphs above doesnt sense from the first sight, the better way to visualization time data type is \"line chart\". On the other hand, It is missing some months! 9,10, and 11 are not there. So, by line chart we can fill in this info**"
   ]
  },
  {
   "cell_type": "code",
   "execution_count": 20,
   "metadata": {},
   "outputs": [
    {
     "data": {
      "text/html": [
       "<div>\n",
       "<style scoped>\n",
       "    .dataframe tbody tr th:only-of-type {\n",
       "        vertical-align: middle;\n",
       "    }\n",
       "\n",
       "    .dataframe tbody tr th {\n",
       "        vertical-align: top;\n",
       "    }\n",
       "\n",
       "    .dataframe thead th {\n",
       "        text-align: right;\n",
       "    }\n",
       "</style>\n",
       "<table border=\"1\" class=\"dataframe\">\n",
       "  <thead>\n",
       "    <tr style=\"text-align: right;\">\n",
       "      <th></th>\n",
       "      <th>lat</th>\n",
       "      <th>lng</th>\n",
       "      <th>desc</th>\n",
       "      <th>zip</th>\n",
       "      <th>title</th>\n",
       "      <th>timeStamp</th>\n",
       "      <th>twp</th>\n",
       "      <th>addr</th>\n",
       "      <th>Reason</th>\n",
       "      <th>Year</th>\n",
       "      <th>Hour</th>\n",
       "      <th>Month</th>\n",
       "    </tr>\n",
       "    <tr>\n",
       "      <th>Day of Week</th>\n",
       "      <th></th>\n",
       "      <th></th>\n",
       "      <th></th>\n",
       "      <th></th>\n",
       "      <th></th>\n",
       "      <th></th>\n",
       "      <th></th>\n",
       "      <th></th>\n",
       "      <th></th>\n",
       "      <th></th>\n",
       "      <th></th>\n",
       "      <th></th>\n",
       "    </tr>\n",
       "  </thead>\n",
       "  <tbody>\n",
       "    <tr>\n",
       "      <th>Fri</th>\n",
       "      <td>12880</td>\n",
       "      <td>12880</td>\n",
       "      <td>12880</td>\n",
       "      <td>12880</td>\n",
       "      <td>12880</td>\n",
       "      <td>12880</td>\n",
       "      <td>12880</td>\n",
       "      <td>12880</td>\n",
       "      <td>12880</td>\n",
       "      <td>12880</td>\n",
       "      <td>12880</td>\n",
       "      <td>12880</td>\n",
       "    </tr>\n",
       "    <tr>\n",
       "      <th>Mon</th>\n",
       "      <td>12757</td>\n",
       "      <td>12757</td>\n",
       "      <td>12757</td>\n",
       "      <td>12757</td>\n",
       "      <td>12757</td>\n",
       "      <td>12757</td>\n",
       "      <td>12757</td>\n",
       "      <td>12757</td>\n",
       "      <td>12757</td>\n",
       "      <td>12757</td>\n",
       "      <td>12757</td>\n",
       "      <td>12757</td>\n",
       "    </tr>\n",
       "    <tr>\n",
       "      <th>Sat</th>\n",
       "      <td>11599</td>\n",
       "      <td>11599</td>\n",
       "      <td>11599</td>\n",
       "      <td>11599</td>\n",
       "      <td>11599</td>\n",
       "      <td>11599</td>\n",
       "      <td>11599</td>\n",
       "      <td>11599</td>\n",
       "      <td>11599</td>\n",
       "      <td>11599</td>\n",
       "      <td>11599</td>\n",
       "      <td>11599</td>\n",
       "    </tr>\n",
       "    <tr>\n",
       "      <th>Sun</th>\n",
       "      <td>10550</td>\n",
       "      <td>10550</td>\n",
       "      <td>10550</td>\n",
       "      <td>10550</td>\n",
       "      <td>10550</td>\n",
       "      <td>10550</td>\n",
       "      <td>10550</td>\n",
       "      <td>10550</td>\n",
       "      <td>10550</td>\n",
       "      <td>10550</td>\n",
       "      <td>10550</td>\n",
       "      <td>10550</td>\n",
       "    </tr>\n",
       "    <tr>\n",
       "      <th>Thu</th>\n",
       "      <td>12575</td>\n",
       "      <td>12575</td>\n",
       "      <td>12575</td>\n",
       "      <td>12575</td>\n",
       "      <td>12575</td>\n",
       "      <td>12575</td>\n",
       "      <td>12575</td>\n",
       "      <td>12575</td>\n",
       "      <td>12575</td>\n",
       "      <td>12575</td>\n",
       "      <td>12575</td>\n",
       "      <td>12575</td>\n",
       "    </tr>\n",
       "    <tr>\n",
       "      <th>Tue</th>\n",
       "      <td>13197</td>\n",
       "      <td>13197</td>\n",
       "      <td>13197</td>\n",
       "      <td>13197</td>\n",
       "      <td>13197</td>\n",
       "      <td>13197</td>\n",
       "      <td>13197</td>\n",
       "      <td>13197</td>\n",
       "      <td>13197</td>\n",
       "      <td>13197</td>\n",
       "      <td>13197</td>\n",
       "      <td>13197</td>\n",
       "    </tr>\n",
       "    <tr>\n",
       "      <th>Wed</th>\n",
       "      <td>13018</td>\n",
       "      <td>13018</td>\n",
       "      <td>13018</td>\n",
       "      <td>13018</td>\n",
       "      <td>13018</td>\n",
       "      <td>13018</td>\n",
       "      <td>13018</td>\n",
       "      <td>13018</td>\n",
       "      <td>13018</td>\n",
       "      <td>13018</td>\n",
       "      <td>13018</td>\n",
       "      <td>13018</td>\n",
       "    </tr>\n",
       "  </tbody>\n",
       "</table>\n",
       "</div>"
      ],
      "text/plain": [
       "               lat    lng   desc    zip  title  timeStamp    twp   addr  \\\n",
       "Day of Week                                                               \n",
       "Fri          12880  12880  12880  12880  12880      12880  12880  12880   \n",
       "Mon          12757  12757  12757  12757  12757      12757  12757  12757   \n",
       "Sat          11599  11599  11599  11599  11599      11599  11599  11599   \n",
       "Sun          10550  10550  10550  10550  10550      10550  10550  10550   \n",
       "Thu          12575  12575  12575  12575  12575      12575  12575  12575   \n",
       "Tue          13197  13197  13197  13197  13197      13197  13197  13197   \n",
       "Wed          13018  13018  13018  13018  13018      13018  13018  13018   \n",
       "\n",
       "             Reason   Year   Hour  Month  \n",
       "Day of Week                               \n",
       "Fri           12880  12880  12880  12880  \n",
       "Mon           12757  12757  12757  12757  \n",
       "Sat           11599  11599  11599  11599  \n",
       "Sun           10550  10550  10550  10550  \n",
       "Thu           12575  12575  12575  12575  \n",
       "Tue           13197  13197  13197  13197  \n",
       "Wed           13018  13018  13018  13018  "
      ]
     },
     "execution_count": 20,
     "metadata": {},
     "output_type": "execute_result"
    }
   ],
   "source": [
    "byDoW = df.groupby('Day of Week').count()\n",
    "byDoW"
   ]
  },
  {
   "cell_type": "code",
   "execution_count": 21,
   "metadata": {},
   "outputs": [
    {
     "data": {
      "text/plain": [
       "<AxesSubplot:xlabel='Day of Week'>"
      ]
     },
     "execution_count": 21,
     "metadata": {},
     "output_type": "execute_result"
    },
    {
     "data": {
      "image/png": "[encoded data removed]",
      "text/plain": [
       "<Figure size 432x288 with 1 Axes>"
      ]
     },
     "metadata": {
      "needs_background": "light"
     },
     "output_type": "display_data"
    }
   ],
   "source": [
    "byDoW['title'].plot()"
   ]
  },
  {
   "cell_type": "code",
   "execution_count": 22,
   "metadata": {},
   "outputs": [
    {
     "data": {
      "text/html": [
       "<div>\n",
       "<style scoped>\n",
       "    .dataframe tbody tr th:only-of-type {\n",
       "        vertical-align: middle;\n",
       "    }\n",
       "\n",
       "    .dataframe tbody tr th {\n",
       "        vertical-align: top;\n",
       "    }\n",
       "\n",
       "    .dataframe thead th {\n",
       "        text-align: right;\n",
       "    }\n",
       "</style>\n",
       "<table border=\"1\" class=\"dataframe\">\n",
       "  <thead>\n",
       "    <tr style=\"text-align: right;\">\n",
       "      <th></th>\n",
       "      <th>lat</th>\n",
       "      <th>lng</th>\n",
       "      <th>desc</th>\n",
       "      <th>zip</th>\n",
       "      <th>title</th>\n",
       "      <th>timeStamp</th>\n",
       "      <th>twp</th>\n",
       "      <th>addr</th>\n",
       "      <th>Reason</th>\n",
       "      <th>Year</th>\n",
       "      <th>Hour</th>\n",
       "      <th>Day of Week</th>\n",
       "    </tr>\n",
       "    <tr>\n",
       "      <th>Month</th>\n",
       "      <th></th>\n",
       "      <th></th>\n",
       "      <th></th>\n",
       "      <th></th>\n",
       "      <th></th>\n",
       "      <th></th>\n",
       "      <th></th>\n",
       "      <th></th>\n",
       "      <th></th>\n",
       "      <th></th>\n",
       "      <th></th>\n",
       "      <th></th>\n",
       "    </tr>\n",
       "  </thead>\n",
       "  <tbody>\n",
       "    <tr>\n",
       "      <th>1</th>\n",
       "      <td>11511</td>\n",
       "      <td>11511</td>\n",
       "      <td>11511</td>\n",
       "      <td>11511</td>\n",
       "      <td>11511</td>\n",
       "      <td>11511</td>\n",
       "      <td>11511</td>\n",
       "      <td>11511</td>\n",
       "      <td>11511</td>\n",
       "      <td>11511</td>\n",
       "      <td>11511</td>\n",
       "      <td>11511</td>\n",
       "    </tr>\n",
       "    <tr>\n",
       "      <th>2</th>\n",
       "      <td>9926</td>\n",
       "      <td>9926</td>\n",
       "      <td>9926</td>\n",
       "      <td>9926</td>\n",
       "      <td>9926</td>\n",
       "      <td>9926</td>\n",
       "      <td>9926</td>\n",
       "      <td>9926</td>\n",
       "      <td>9926</td>\n",
       "      <td>9926</td>\n",
       "      <td>9926</td>\n",
       "      <td>9926</td>\n",
       "    </tr>\n",
       "    <tr>\n",
       "      <th>3</th>\n",
       "      <td>9753</td>\n",
       "      <td>9753</td>\n",
       "      <td>9753</td>\n",
       "      <td>9753</td>\n",
       "      <td>9753</td>\n",
       "      <td>9753</td>\n",
       "      <td>9753</td>\n",
       "      <td>9753</td>\n",
       "      <td>9753</td>\n",
       "      <td>9753</td>\n",
       "      <td>9753</td>\n",
       "      <td>9753</td>\n",
       "    </tr>\n",
       "    <tr>\n",
       "      <th>4</th>\n",
       "      <td>9893</td>\n",
       "      <td>9893</td>\n",
       "      <td>9893</td>\n",
       "      <td>9893</td>\n",
       "      <td>9893</td>\n",
       "      <td>9893</td>\n",
       "      <td>9893</td>\n",
       "      <td>9893</td>\n",
       "      <td>9893</td>\n",
       "      <td>9893</td>\n",
       "      <td>9893</td>\n",
       "      <td>9893</td>\n",
       "    </tr>\n",
       "    <tr>\n",
       "      <th>5</th>\n",
       "      <td>9939</td>\n",
       "      <td>9939</td>\n",
       "      <td>9939</td>\n",
       "      <td>9939</td>\n",
       "      <td>9939</td>\n",
       "      <td>9939</td>\n",
       "      <td>9939</td>\n",
       "      <td>9939</td>\n",
       "      <td>9939</td>\n",
       "      <td>9939</td>\n",
       "      <td>9939</td>\n",
       "      <td>9939</td>\n",
       "    </tr>\n",
       "  </tbody>\n",
       "</table>\n",
       "</div>"
      ],
      "text/plain": [
       "         lat    lng   desc    zip  title  timeStamp    twp   addr  Reason  \\\n",
       "Month                                                                       \n",
       "1      11511  11511  11511  11511  11511      11511  11511  11511   11511   \n",
       "2       9926   9926   9926   9926   9926       9926   9926   9926    9926   \n",
       "3       9753   9753   9753   9753   9753       9753   9753   9753    9753   \n",
       "4       9893   9893   9893   9893   9893       9893   9893   9893    9893   \n",
       "5       9939   9939   9939   9939   9939       9939   9939   9939    9939   \n",
       "\n",
       "        Year   Hour  Day of Week  \n",
       "Month                             \n",
       "1      11511  11511        11511  \n",
       "2       9926   9926         9926  \n",
       "3       9753   9753         9753  \n",
       "4       9893   9893         9893  \n",
       "5       9939   9939         9939  "
      ]
     },
     "execution_count": 22,
     "metadata": {},
     "output_type": "execute_result"
    }
   ],
   "source": [
    "byMonth = df.groupby('Month').count()\n",
    "byMonth.head()"
   ]
  },
  {
   "cell_type": "code",
   "execution_count": 23,
   "metadata": {},
   "outputs": [
    {
     "data": {
      "text/plain": [
       "<AxesSubplot:xlabel='Month'>"
      ]
     },
     "execution_count": 23,
     "metadata": {},
     "output_type": "execute_result"
    },
    {
     "data": {
      "image/png": "[encoded data removed]",
      "text/plain": [
       "<Figure size 432x288 with 1 Axes>"
      ]
     },
     "metadata": {
      "needs_background": "light"
     },
     "output_type": "display_data"
    }
   ],
   "source": [
    "byMonth['twp'].plot()"
   ]
  },
  {
   "cell_type": "code",
   "execution_count": 24,
   "metadata": {},
   "outputs": [
    {
     "data": {
      "text/plain": [
       "<seaborn.axisgrid.FacetGrid at 0x2c994e34b50>"
      ]
     },
     "execution_count": 24,
     "metadata": {},
     "output_type": "execute_result"
    },
    {
     "data": {
      "image/png": "[encoded data removed]",
      "text/plain": [
       "<Figure size 360x360 with 1 Axes>"
      ]
     },
     "metadata": {
      "needs_background": "light"
     },
     "output_type": "display_data"
    }
   ],
   "source": [
    "sns.lmplot(x='Month',y='twp',data=byMonth.reset_index())"
   ]
  },
  {
   "cell_type": "code",
   "execution_count": 25,
   "metadata": {},
   "outputs": [],
   "source": [
    "df['Date'] = df['timeStamp'].apply(lambda time: time.date())"
   ]
  },
  {
   "cell_type": "code",
   "execution_count": 26,
   "metadata": {},
   "outputs": [
    {
     "data": {
      "image/png": "[encoded data removed]",
      "text/plain": [
       "<Figure size 432x288 with 1 Axes>"
      ]
     },
     "metadata": {
      "needs_background": "light"
     },
     "output_type": "display_data"
    }
   ],
   "source": [
    "df.groupby('Date').count()['twp'].plot()\n",
    "plt.xticks(rotation=45)\n",
    "plt.show()"
   ]
  },
  {
   "cell_type": "code",
   "execution_count": 27,
   "metadata": {},
   "outputs": [
    {
     "data": {
      "image/png": "[encoded data removed]",
      "text/plain": [
       "<Figure size 432x288 with 1 Axes>"
      ]
     },
     "metadata": {
      "needs_background": "light"
     },
     "output_type": "display_data"
    }
   ],
   "source": [
    "df[df['Reason']=='Traffic'].groupby('Date').count()['twp'].plot()\n",
    "plt.title('Traffic')\n",
    "plt.xticks(rotation=45)\n",
    "plt.tight_layout()"
   ]
  },
  {
   "cell_type": "code",
   "execution_count": 28,
   "metadata": {},
   "outputs": [
    {
     "data": {
      "image/png": "[encoded data removed]",
      "text/plain": [
       "<Figure size 432x288 with 1 Axes>"
      ]
     },
     "metadata": {
      "needs_background": "light"
     },
     "output_type": "display_data"
    }
   ],
   "source": [
    "df[df['Reason']=='Fire'].groupby('Date').count()['twp'].plot()\n",
    "plt.title('Fire')\n",
    "plt.xticks(rotation=45)\n",
    "plt.tight_layout()"
   ]
  },
  {
   "cell_type": "code",
   "execution_count": 29,
   "metadata": {},
   "outputs": [
    {
     "data": {
      "image/png": "[encoded data removed]",
      "text/plain": [
       "<Figure size 432x288 with 1 Axes>"
      ]
     },
     "metadata": {
      "needs_background": "light"
     },
     "output_type": "display_data"
    }
   ],
   "source": [
    "df[df['Reason']=='EMS'].groupby('Date').count()['twp'].plot()\n",
    "plt.title('EMS')\n",
    "plt.xticks(rotation=45)\n",
    "plt.tight_layout()"
   ]
  },
  {
   "cell_type": "markdown",
   "metadata": {},
   "source": [
    "**Making a heatmap might give us more insight**"
   ]
  },
  {
   "cell_type": "code",
   "execution_count": 30,
   "metadata": {},
   "outputs": [
    {
     "data": {
      "text/html": [
       "<div>\n",
       "<style scoped>\n",
       "    .dataframe tbody tr th:only-of-type {\n",
       "        vertical-align: middle;\n",
       "    }\n",
       "\n",
       "    .dataframe tbody tr th {\n",
       "        vertical-align: top;\n",
       "    }\n",
       "\n",
       "    .dataframe thead th {\n",
       "        text-align: right;\n",
       "    }\n",
       "</style>\n",
       "<table border=\"1\" class=\"dataframe\">\n",
       "  <thead>\n",
       "    <tr style=\"text-align: right;\">\n",
       "      <th>Hour</th>\n",
       "      <th>0</th>\n",
       "      <th>1</th>\n",
       "      <th>2</th>\n",
       "      <th>3</th>\n",
       "      <th>4</th>\n",
       "      <th>5</th>\n",
       "      <th>6</th>\n",
       "      <th>7</th>\n",
       "      <th>8</th>\n",
       "      <th>9</th>\n",
       "      <th>...</th>\n",
       "      <th>14</th>\n",
       "      <th>15</th>\n",
       "      <th>16</th>\n",
       "      <th>17</th>\n",
       "      <th>18</th>\n",
       "      <th>19</th>\n",
       "      <th>20</th>\n",
       "      <th>21</th>\n",
       "      <th>22</th>\n",
       "      <th>23</th>\n",
       "    </tr>\n",
       "    <tr>\n",
       "      <th>Day of Week</th>\n",
       "      <th></th>\n",
       "      <th></th>\n",
       "      <th></th>\n",
       "      <th></th>\n",
       "      <th></th>\n",
       "      <th></th>\n",
       "      <th></th>\n",
       "      <th></th>\n",
       "      <th></th>\n",
       "      <th></th>\n",
       "      <th></th>\n",
       "      <th></th>\n",
       "      <th></th>\n",
       "      <th></th>\n",
       "      <th></th>\n",
       "      <th></th>\n",
       "      <th></th>\n",
       "      <th></th>\n",
       "      <th></th>\n",
       "      <th></th>\n",
       "      <th></th>\n",
       "    </tr>\n",
       "  </thead>\n",
       "  <tbody>\n",
       "    <tr>\n",
       "      <th>Fri</th>\n",
       "      <td>248</td>\n",
       "      <td>200</td>\n",
       "      <td>165</td>\n",
       "      <td>164</td>\n",
       "      <td>184</td>\n",
       "      <td>166</td>\n",
       "      <td>319</td>\n",
       "      <td>525</td>\n",
       "      <td>636</td>\n",
       "      <td>663</td>\n",
       "      <td>...</td>\n",
       "      <td>806</td>\n",
       "      <td>839</td>\n",
       "      <td>897</td>\n",
       "      <td>825</td>\n",
       "      <td>714</td>\n",
       "      <td>616</td>\n",
       "      <td>569</td>\n",
       "      <td>491</td>\n",
       "      <td>445</td>\n",
       "      <td>400</td>\n",
       "    </tr>\n",
       "    <tr>\n",
       "      <th>Mon</th>\n",
       "      <td>243</td>\n",
       "      <td>198</td>\n",
       "      <td>183</td>\n",
       "      <td>173</td>\n",
       "      <td>185</td>\n",
       "      <td>222</td>\n",
       "      <td>338</td>\n",
       "      <td>547</td>\n",
       "      <td>723</td>\n",
       "      <td>689</td>\n",
       "      <td>...</td>\n",
       "      <td>759</td>\n",
       "      <td>776</td>\n",
       "      <td>837</td>\n",
       "      <td>845</td>\n",
       "      <td>762</td>\n",
       "      <td>654</td>\n",
       "      <td>547</td>\n",
       "      <td>443</td>\n",
       "      <td>410</td>\n",
       "      <td>294</td>\n",
       "    </tr>\n",
       "    <tr>\n",
       "      <th>Sat</th>\n",
       "      <td>324</td>\n",
       "      <td>265</td>\n",
       "      <td>226</td>\n",
       "      <td>212</td>\n",
       "      <td>202</td>\n",
       "      <td>205</td>\n",
       "      <td>227</td>\n",
       "      <td>352</td>\n",
       "      <td>416</td>\n",
       "      <td>566</td>\n",
       "      <td>...</td>\n",
       "      <td>674</td>\n",
       "      <td>677</td>\n",
       "      <td>705</td>\n",
       "      <td>649</td>\n",
       "      <td>678</td>\n",
       "      <td>613</td>\n",
       "      <td>549</td>\n",
       "      <td>508</td>\n",
       "      <td>450</td>\n",
       "      <td>402</td>\n",
       "    </tr>\n",
       "    <tr>\n",
       "      <th>Sun</th>\n",
       "      <td>335</td>\n",
       "      <td>280</td>\n",
       "      <td>245</td>\n",
       "      <td>228</td>\n",
       "      <td>199</td>\n",
       "      <td>214</td>\n",
       "      <td>251</td>\n",
       "      <td>342</td>\n",
       "      <td>434</td>\n",
       "      <td>554</td>\n",
       "      <td>...</td>\n",
       "      <td>608</td>\n",
       "      <td>588</td>\n",
       "      <td>555</td>\n",
       "      <td>608</td>\n",
       "      <td>574</td>\n",
       "      <td>559</td>\n",
       "      <td>464</td>\n",
       "      <td>419</td>\n",
       "      <td>365</td>\n",
       "      <td>283</td>\n",
       "    </tr>\n",
       "    <tr>\n",
       "      <th>Thu</th>\n",
       "      <td>251</td>\n",
       "      <td>180</td>\n",
       "      <td>200</td>\n",
       "      <td>144</td>\n",
       "      <td>162</td>\n",
       "      <td>167</td>\n",
       "      <td>293</td>\n",
       "      <td>495</td>\n",
       "      <td>685</td>\n",
       "      <td>733</td>\n",
       "      <td>...</td>\n",
       "      <td>758</td>\n",
       "      <td>827</td>\n",
       "      <td>790</td>\n",
       "      <td>867</td>\n",
       "      <td>706</td>\n",
       "      <td>610</td>\n",
       "      <td>543</td>\n",
       "      <td>472</td>\n",
       "      <td>356</td>\n",
       "      <td>307</td>\n",
       "    </tr>\n",
       "    <tr>\n",
       "      <th>Tue</th>\n",
       "      <td>241</td>\n",
       "      <td>214</td>\n",
       "      <td>161</td>\n",
       "      <td>148</td>\n",
       "      <td>184</td>\n",
       "      <td>203</td>\n",
       "      <td>350</td>\n",
       "      <td>563</td>\n",
       "      <td>719</td>\n",
       "      <td>763</td>\n",
       "      <td>...</td>\n",
       "      <td>821</td>\n",
       "      <td>823</td>\n",
       "      <td>867</td>\n",
       "      <td>896</td>\n",
       "      <td>759</td>\n",
       "      <td>665</td>\n",
       "      <td>578</td>\n",
       "      <td>494</td>\n",
       "      <td>411</td>\n",
       "      <td>245</td>\n",
       "    </tr>\n",
       "    <tr>\n",
       "      <th>Wed</th>\n",
       "      <td>225</td>\n",
       "      <td>193</td>\n",
       "      <td>169</td>\n",
       "      <td>193</td>\n",
       "      <td>138</td>\n",
       "      <td>224</td>\n",
       "      <td>332</td>\n",
       "      <td>591</td>\n",
       "      <td>769</td>\n",
       "      <td>714</td>\n",
       "      <td>...</td>\n",
       "      <td>787</td>\n",
       "      <td>760</td>\n",
       "      <td>860</td>\n",
       "      <td>878</td>\n",
       "      <td>771</td>\n",
       "      <td>590</td>\n",
       "      <td>596</td>\n",
       "      <td>507</td>\n",
       "      <td>432</td>\n",
       "      <td>294</td>\n",
       "    </tr>\n",
       "  </tbody>\n",
       "</table>\n",
       "<p>7 rows × 24 columns</p>\n",
       "</div>"
      ],
      "text/plain": [
       "Hour          0    1    2    3    4    5    6    7    8    9   ...   14   15  \\\n",
       "Day of Week                                                    ...             \n",
       "Fri          248  200  165  164  184  166  319  525  636  663  ...  806  839   \n",
       "Mon          243  198  183  173  185  222  338  547  723  689  ...  759  776   \n",
       "Sat          324  265  226  212  202  205  227  352  416  566  ...  674  677   \n",
       "Sun          335  280  245  228  199  214  251  342  434  554  ...  608  588   \n",
       "Thu          251  180  200  144  162  167  293  495  685  733  ...  758  827   \n",
       "Tue          241  214  161  148  184  203  350  563  719  763  ...  821  823   \n",
       "Wed          225  193  169  193  138  224  332  591  769  714  ...  787  760   \n",
       "\n",
       "Hour          16   17   18   19   20   21   22   23  \n",
       "Day of Week                                          \n",
       "Fri          897  825  714  616  569  491  445  400  \n",
       "Mon          837  845  762  654  547  443  410  294  \n",
       "Sat          705  649  678  613  549  508  450  402  \n",
       "Sun          555  608  574  559  464  419  365  283  \n",
       "Thu          790  867  706  610  543  472  356  307  \n",
       "Tue          867  896  759  665  578  494  411  245  \n",
       "Wed          860  878  771  590  596  507  432  294  \n",
       "\n",
       "[7 rows x 24 columns]"
      ]
     },
     "execution_count": 30,
     "metadata": {},
     "output_type": "execute_result"
    }
   ],
   "source": [
    "dayHour = df.groupby(by=['Day of Week','Hour']).count()['Reason'].unstack()\n",
    "dayHour"
   ]
  },
  {
   "cell_type": "code",
   "execution_count": 31,
   "metadata": {},
   "outputs": [
    {
     "data": {
      "text/plain": [
       "<AxesSubplot:xlabel='Hour', ylabel='Day of Week'>"
      ]
     },
     "execution_count": 31,
     "metadata": {},
     "output_type": "execute_result"
    },
    {
     "data": {
      "image/png": "[encoded data removed]",
      "text/plain": [
       "<Figure size 1008x360 with 2 Axes>"
      ]
     },
     "metadata": {
      "needs_background": "light"
     },
     "output_type": "display_data"
    }
   ],
   "source": [
    "plt.figure(figsize=(14,5))\n",
    "sns.heatmap(dayHour,cmap='viridis')"
   ]
  },
  {
   "cell_type": "markdown",
   "metadata": {},
   "source": [
    "** Now create a clustermap using this DataFrame. **"
   ]
  },
  {
   "cell_type": "code",
   "execution_count": 32,
   "metadata": {},
   "outputs": [
    {
     "data": {
      "text/plain": [
       "<seaborn.matrix.ClusterGrid at 0x2c995c47910>"
      ]
     },
     "execution_count": 32,
     "metadata": {},
     "output_type": "execute_result"
    },
    {
     "data": {
      "image/png": "[encoded data removed]",
      "text/plain": [
       "<Figure size 720x720 with 4 Axes>"
      ]
     },
     "metadata": {
      "needs_background": "light"
     },
     "output_type": "display_data"
    }
   ],
   "source": [
    "sns.clustermap(dayHour,cmap='rocket')"
   ]
  },
  {
   "cell_type": "code",
   "execution_count": 33,
   "metadata": {},
   "outputs": [
    {
     "data": {
      "text/html": [
       "<div>\n",
       "<style scoped>\n",
       "    .dataframe tbody tr th:only-of-type {\n",
       "        vertical-align: middle;\n",
       "    }\n",
       "\n",
       "    .dataframe tbody tr th {\n",
       "        vertical-align: top;\n",
       "    }\n",
       "\n",
       "    .dataframe thead th {\n",
       "        text-align: right;\n",
       "    }\n",
       "</style>\n",
       "<table border=\"1\" class=\"dataframe\">\n",
       "  <thead>\n",
       "    <tr style=\"text-align: right;\">\n",
       "      <th>Month</th>\n",
       "      <th>1</th>\n",
       "      <th>2</th>\n",
       "      <th>3</th>\n",
       "      <th>4</th>\n",
       "      <th>5</th>\n",
       "      <th>6</th>\n",
       "      <th>7</th>\n",
       "      <th>8</th>\n",
       "      <th>12</th>\n",
       "    </tr>\n",
       "    <tr>\n",
       "      <th>Day of Week</th>\n",
       "      <th></th>\n",
       "      <th></th>\n",
       "      <th></th>\n",
       "      <th></th>\n",
       "      <th></th>\n",
       "      <th></th>\n",
       "      <th></th>\n",
       "      <th></th>\n",
       "      <th></th>\n",
       "    </tr>\n",
       "  </thead>\n",
       "  <tbody>\n",
       "    <tr>\n",
       "      <th>Fri</th>\n",
       "      <td>1735</td>\n",
       "      <td>1360</td>\n",
       "      <td>1331</td>\n",
       "      <td>1683</td>\n",
       "      <td>1504</td>\n",
       "      <td>1429</td>\n",
       "      <td>1810</td>\n",
       "      <td>1123</td>\n",
       "      <td>905</td>\n",
       "    </tr>\n",
       "    <tr>\n",
       "      <th>Mon</th>\n",
       "      <td>1505</td>\n",
       "      <td>1658</td>\n",
       "      <td>1364</td>\n",
       "      <td>1401</td>\n",
       "      <td>1547</td>\n",
       "      <td>1395</td>\n",
       "      <td>1472</td>\n",
       "      <td>1315</td>\n",
       "      <td>1100</td>\n",
       "    </tr>\n",
       "    <tr>\n",
       "      <th>Sat</th>\n",
       "      <td>1979</td>\n",
       "      <td>1240</td>\n",
       "      <td>1110</td>\n",
       "      <td>1512</td>\n",
       "      <td>1264</td>\n",
       "      <td>1201</td>\n",
       "      <td>1507</td>\n",
       "      <td>955</td>\n",
       "      <td>831</td>\n",
       "    </tr>\n",
       "    <tr>\n",
       "      <th>Sun</th>\n",
       "      <td>1726</td>\n",
       "      <td>1058</td>\n",
       "      <td>973</td>\n",
       "      <td>1304</td>\n",
       "      <td>1230</td>\n",
       "      <td>1136</td>\n",
       "      <td>1440</td>\n",
       "      <td>878</td>\n",
       "      <td>805</td>\n",
       "    </tr>\n",
       "    <tr>\n",
       "      <th>Thu</th>\n",
       "      <td>1387</td>\n",
       "      <td>1391</td>\n",
       "      <td>1648</td>\n",
       "      <td>1390</td>\n",
       "      <td>1387</td>\n",
       "      <td>1800</td>\n",
       "      <td>1447</td>\n",
       "      <td>1038</td>\n",
       "      <td>1087</td>\n",
       "    </tr>\n",
       "    <tr>\n",
       "      <th>Tue</th>\n",
       "      <td>1697</td>\n",
       "      <td>1535</td>\n",
       "      <td>1647</td>\n",
       "      <td>1255</td>\n",
       "      <td>1658</td>\n",
       "      <td>1452</td>\n",
       "      <td>1446</td>\n",
       "      <td>1415</td>\n",
       "      <td>1092</td>\n",
       "    </tr>\n",
       "    <tr>\n",
       "      <th>Wed</th>\n",
       "      <td>1482</td>\n",
       "      <td>1684</td>\n",
       "      <td>1680</td>\n",
       "      <td>1348</td>\n",
       "      <td>1349</td>\n",
       "      <td>1790</td>\n",
       "      <td>1502</td>\n",
       "      <td>1105</td>\n",
       "      <td>1078</td>\n",
       "    </tr>\n",
       "  </tbody>\n",
       "</table>\n",
       "</div>"
      ],
      "text/plain": [
       "Month          1     2     3     4     5     6     7     8     12\n",
       "Day of Week                                                      \n",
       "Fri          1735  1360  1331  1683  1504  1429  1810  1123   905\n",
       "Mon          1505  1658  1364  1401  1547  1395  1472  1315  1100\n",
       "Sat          1979  1240  1110  1512  1264  1201  1507   955   831\n",
       "Sun          1726  1058   973  1304  1230  1136  1440   878   805\n",
       "Thu          1387  1391  1648  1390  1387  1800  1447  1038  1087\n",
       "Tue          1697  1535  1647  1255  1658  1452  1446  1415  1092\n",
       "Wed          1482  1684  1680  1348  1349  1790  1502  1105  1078"
      ]
     },
     "execution_count": 33,
     "metadata": {},
     "output_type": "execute_result"
    }
   ],
   "source": [
    "dayMonth = df.groupby(by=['Day of Week','Month']).count()['Reason'].unstack()\n",
    "dayMonth"
   ]
  },
  {
   "cell_type": "code",
   "execution_count": 34,
   "metadata": {},
   "outputs": [
    {
     "data": {
      "text/plain": [
       "<AxesSubplot:xlabel='Month', ylabel='Day of Week'>"
      ]
     },
     "execution_count": 34,
     "metadata": {},
     "output_type": "execute_result"
    },
    {
     "data": {
      "image/png": "[encoded data removed]",
      "text/plain": [
       "<Figure size 864x432 with 2 Axes>"
      ]
     },
     "metadata": {
      "needs_background": "light"
     },
     "output_type": "display_data"
    }
   ],
   "source": [
    "plt.figure(figsize=(12,6))\n",
    "sns.heatmap(dayMonth,cmap='viridis')"
   ]
  },
  {
   "cell_type": "code",
   "execution_count": 35,
   "metadata": {},
   "outputs": [
    {
     "data": {
      "text/plain": [
       "<seaborn.matrix.ClusterGrid at 0x2c995ed2b50>"
      ]
     },
     "execution_count": 35,
     "metadata": {},
     "output_type": "execute_result"
    },
    {
     "data": {
      "image/png": "[encoded data removed]",
      "text/plain": [
       "<Figure size 720x720 with 4 Axes>"
      ]
     },
     "metadata": {
      "needs_background": "light"
     },
     "output_type": "display_data"
    }
   ],
   "source": [
    "sns.clustermap(dayMonth,cmap='rocket')"
   ]
  },
  {
   "cell_type": "code",
   "execution_count": 36,
   "metadata": {},
   "outputs": [
    {
     "data": {
      "text/plain": [
       "LOWER MERION    7202\n",
       "ABINGTON        5675\n",
       "NORRISTOWN      5610\n",
       "POTTSTOWN       4029\n",
       "CHELTENHAM      3942\n",
       "Name: twp, dtype: int64"
      ]
     },
     "execution_count": 36,
     "metadata": {},
     "output_type": "execute_result"
    }
   ],
   "source": [
    "df['twp'].value_counts().head()"
   ]
  },
  {
   "cell_type": "markdown",
   "metadata": {},
   "source": [
    "                                                Conclusion!\n",
    "\n",
    "The main Reason of 911 calls is: \n",
    "                            EMS -> Traffic -> Fire\n",
    "\n",
    "Most of these calls are coming from:\n",
    "                            LOWER MERION -> ABINGTON -> NORRISTOWN -> POTTSTOWN -> CHELTENHAM\n",
    "\n",
    "Most of these calls are recorded on Saturdays in January\n",
    "\n",
    "While there is no considerably massive calls from Midnight till 6:00 am, intensive calls are recorded at 10:00 am - 5:00 pm, especially 4:00 - 5:00 pm are excessive calls period\n",
    "\n",
    "In total, large amount of calls seems on Tuesday and Wednesday.\n"
   ]
  },
  {
   "cell_type": "code",
   "execution_count": 51,
   "metadata": {
    "scrolled": true
   },
   "outputs": [
    {
     "data": {
      "text/plain": [
       "NORRISTOWN          3680\n",
       "ABINGTON            2878\n",
       "LOWER MERION        2830\n",
       "POTTSTOWN           2605\n",
       "LOWER PROVIDENCE    1952\n",
       "                    ... \n",
       "BRYN ATHYN            67\n",
       "DELAWARE COUNTY       58\n",
       "GREEN LANE            21\n",
       "LEHIGH COUNTY         17\n",
       "PHILA COUNTY           2\n",
       "Name: twp, Length: 67, dtype: int64"
      ]
     },
     "execution_count": 51,
     "metadata": {},
     "output_type": "execute_result"
    }
   ],
   "source": [
    "df[df['Reason'] == 'EMS']['twp'].value_counts()"
   ]
  },
  {
   "cell_type": "markdown",
   "metadata": {},
   "source": [
    "As it seems above, even though most of calls came from 'Lower Merion' Region, EMS calls had been recorded by 'Norristown' region.So, it is always a good idea to focus on  specific regional data for precaution. I mean, maybe you can make road instructions in 'X' region, but can improve current health policy by constructing public amenities, as instance, in 'Y' region"
   ]
  },
  {
   "cell_type": "code",
   "execution_count": null,
   "metadata": {},
   "outputs": [],
   "source": []
  }
 ],
 "metadata": {
  "kernelspec": {
   "display_name": "Python 3",
   "language": "python",
   "name": "python3"
  },
  "language_info": {
   "codemirror_mode": {
    "name": "ipython",
    "version": 3
   },
   "file_extension": ".py",
   "mimetype": "text/x-python",
   "name": "python",
   "nbconvert_exporter": "python",
   "pygments_lexer": "ipython3",
   "version": "3.8.8"
  }
 },
 "nbformat": 4,
 "nbformat_minor": 1
}
